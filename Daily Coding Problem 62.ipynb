{
 "cells": [
  {
   "cell_type": "markdown",
   "id": "52aaf1e8",
   "metadata": {},
   "source": [
    "# Daily Coding Problem 62"
   ]
  },
  {
   "cell_type": "raw",
   "id": "0f0133ed",
   "metadata": {},
   "source": [
    "This problem was asked by Facebook.\n",
    "\n",
    "There is an N by M matrix of zeroes. Given N and M, write a function to count the number of ways of starting at the top-left corner and getting to the bottom-right corner. You can only move right or down.\n",
    "\n",
    "For example, given a 2 by 2 matrix, you should return 2, since there are two ways to get to the bottom-right:\n",
    "\n",
    " - Right, then down\n",
    " - Down, then right\n",
    " \n",
    "Given a 5 by 5 matrix, there are 70 ways to get to the bottom-right."
   ]
  },
  {
   "cell_type": "markdown",
   "id": "f0b5c989",
   "metadata": {},
   "source": [
    "# Solution\n",
    "\n",
    "Notice that, to get to any cell, we only have two ways: either directly from above, or from the left, unless we can't go up or left anymore, in which case there's only one way. This leads to the following recurrence:\n",
    "\n",
    " - If either N or M is 1, then return 1\n",
    "- Otherwise, f(n, m) = f(n - 1, m) + f(n, m - 1)\n",
    "\n",
    "This is very similar to the staircase problem from Daily Coding Problem #12.\n",
    "\n",
    "The recursive solution would look like this:"
   ]
  },
  {
   "cell_type": "code",
   "execution_count": 3,
   "id": "0dbe9ef9",
   "metadata": {},
   "outputs": [
    {
     "name": "stdout",
     "output_type": "stream",
     "text": [
      "70\n"
     ]
    }
   ],
   "source": [
    "def num_ways(n, m):\n",
    "    if n == 1 or m == 1:\n",
    "        return 1\n",
    "    return num_ways(n - 1, m) + num_ways(n, m - 1)\n",
    "print(num_ways(5,5))"
   ]
  },
  {
   "cell_type": "markdown",
   "id": "af7873e6",
   "metadata": {},
   "source": [
    "However, just like in the staircase problem (or fibonacci), we will have a lot of repeated subcomputations. So, let's use bottom-up dynamic programming to store those results.\n",
    "\n",
    "We'll initialize an N by M matrix A, and each entry A[i][j], will contain the number of ways we can get to that entry from the top-left. Then, once we've filled up the matrix using our recurrence (by checking directly above or directly left), we can just look at the bottom-right value to get our answer."
   ]
  },
  {
   "cell_type": "code",
   "execution_count": 4,
   "id": "b79e59de",
   "metadata": {},
   "outputs": [
    {
     "name": "stdout",
     "output_type": "stream",
     "text": [
      "70\n"
     ]
    }
   ],
   "source": [
    "def num_ways(n, m):\n",
    "    A = [[0 for _ in range(m)] for _ in range(n)]\n",
    "    for i in range(n):\n",
    "        A[i][0] = 1\n",
    "    for j in range(m):\n",
    "        A[0][j] = 1\n",
    "    for i in range(1, n):\n",
    "        for j in range(1, m):\n",
    "            A[i][j] = A[i - 1][j] + A[i][j - 1]\n",
    "    return A[-1][-1]\n",
    "\n",
    "print(num_ways(5,5))"
   ]
  },
  {
   "cell_type": "markdown",
   "id": "bfd43884",
   "metadata": {},
   "source": [
    "This runs in O(N * M) time and space."
   ]
  },
  {
   "cell_type": "code",
   "execution_count": null,
   "id": "e9b3deee",
   "metadata": {},
   "outputs": [],
   "source": []
  }
 ],
 "metadata": {
  "kernelspec": {
   "display_name": "Python 3 (ipykernel)",
   "language": "python",
   "name": "python3"
  },
  "language_info": {
   "codemirror_mode": {
    "name": "ipython",
    "version": 3
   },
   "file_extension": ".py",
   "mimetype": "text/x-python",
   "name": "python",
   "nbconvert_exporter": "python",
   "pygments_lexer": "ipython3",
   "version": "3.8.10"
  }
 },
 "nbformat": 4,
 "nbformat_minor": 5
}
